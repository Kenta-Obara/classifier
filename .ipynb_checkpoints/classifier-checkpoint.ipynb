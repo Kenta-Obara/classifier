{
 "cells": [
  {
   "cell_type": "code",
   "execution_count": 8,
   "id": "88a36b2f",
   "metadata": {},
   "outputs": [],
   "source": [
    "from fastai.vision import *\n",
    "from fastai.imports import *\n",
    "from fastai.learner import *\n",
    "from fastai.vision.core import *\n",
    "from fastai.vision.widgets import *"
   ]
  },
  {
   "cell_type": "code",
   "execution_count": 9,
   "id": "d18076b3",
   "metadata": {},
   "outputs": [],
   "source": [
    "# !python --version"
   ]
  },
  {
   "cell_type": "code",
   "execution_count": 14,
   "id": "af4be65f",
   "metadata": {},
   "outputs": [],
   "source": [
    "learn_inf = load_learner('export.pkl')"
   ]
  },
  {
   "cell_type": "code",
   "execution_count": null,
   "id": "11c888d0",
   "metadata": {},
   "outputs": [],
   "source": [
    "out_pl = widgets.Output()"
   ]
  },
  {
   "cell_type": "code",
   "execution_count": null,
   "id": "62455b24",
   "metadata": {},
   "outputs": [],
   "source": [
    "lbl_pred = widgets.Label()"
   ]
  },
  {
   "cell_type": "code",
   "execution_count": null,
   "id": "adcd3ecd",
   "metadata": {},
   "outputs": [],
   "source": [
    "btn_run = widgets.Button(description='チェック')"
   ]
  },
  {
   "cell_type": "code",
   "execution_count": 19,
   "id": "ed8c932e",
   "metadata": {},
   "outputs": [],
   "source": [
    "def on_click_classify(change):\n",
    "    img = PILImage.create(btn_upload.data[-1])\n",
    "    out_pl.clear_output()\n",
    "    with out_pl: display(img.to_thumb(128,128))\n",
    "    pred,pred_idx,probs = learn_inf.predict(img)\n",
    "    if pred == \"tomato\":\n",
    "        lbl_pred.value = f'{probs[pred_idx]*100:.02f}%の確率でトマトです'\n",
    "    elif pred == \"tiger\": \n",
    "        lbl_pred.value = f'{probs[pred_idx]*100:.02f}%の確率でトラです'\n",
    "    elif pred == \"rabbit\":\n",
    "        lbl_prebd.value = f'{probs[pred_idx]*100:.02f}%の確率でうさぎです'\n",
    "#     lbl_pred.value = f'{probs[pred_idx]*100:.02f}%の確率で{pred}です'\n",
    "#     lbl_pred.value = f'{probs[pred_idx]:.02f*100}%の確率で{pred}'\n",
    "\n",
    "btn_run.on_click(on_click_classify)"
   ]
  },
  {
   "cell_type": "code",
   "execution_count": 20,
   "id": "e376e1dd",
   "metadata": {},
   "outputs": [],
   "source": [
    "btn_upload = widgets.FileUpload()"
   ]
  },
  {
   "cell_type": "markdown",
   "id": "d6da20de",
   "metadata": {},
   "source": [
    "<div style=\"text-align: center;\">\n",
    " <h1><em>うさぎ・トマト・トラ　の判別</em></h1>\n",
    "</div>"
   ]
  },
  {
   "cell_type": "code",
   "execution_count": 22,
   "id": "439a5ec9",
   "metadata": {},
   "outputs": [
    {
     "data": {
      "application/vnd.jupyter.widget-view+json": {
       "model_id": "35b8ba83431545beb86f010c4ac803f4",
       "version_major": 2,
       "version_minor": 0
      },
      "text/plain": [
       "VBox(children=(Label(value='「うさぎ」「トマト」「トラ」のどれかの写真をアップロードしてください！'), FileUpload(value={}, description='Upload'),…"
      ]
     },
     "metadata": {},
     "output_type": "display_data"
    },
    {
     "data": {
      "text/html": [],
      "text/plain": [
       "<IPython.core.display.HTML object>"
      ]
     },
     "metadata": {},
     "output_type": "display_data"
    }
   ],
   "source": [
    "VBox([widgets.Label('「うさぎ」「トマト」「トラ」のどれかの写真をアップロードしてください！'), \n",
    "      btn_upload, btn_run, out_pl, lbl_pred])"
   ]
  }
 ],
 "metadata": {
  "kernelspec": {
   "display_name": "Python 3 (ipykernel)",
   "language": "python",
   "name": "python3"
  },
  "language_info": {
   "codemirror_mode": {
    "name": "ipython",
    "version": 3
   },
   "file_extension": ".py",
   "mimetype": "text/x-python",
   "name": "python",
   "nbconvert_exporter": "python",
   "pygments_lexer": "ipython3",
   "version": "3.8.12"
  }
 },
 "nbformat": 4,
 "nbformat_minor": 5
}
