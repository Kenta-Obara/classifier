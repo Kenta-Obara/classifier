{
 "cells": [
  {
   "cell_type": "code",
   "execution_count": 1,
   "id": "266a3e0d",
   "metadata": {},
   "outputs": [],
   "source": [
    "import fastai\n",
    "from fastai.vision.widgets import *\n",
    "import torch\n",
    "import sys\n",
    "import os\n",
    "from pathlib import Path\n",
    "from fastai.vision.core import PILImage"
   ]
  },
  {
   "cell_type": "code",
   "execution_count": 2,
   "id": "20b6a02b",
   "metadata": {},
   "outputs": [],
   "source": [
    "path = Path()"
   ]
  },
  {
   "cell_type": "code",
   "execution_count": 3,
   "id": "56b7ef27",
   "metadata": {},
   "outputs": [],
   "source": [
    "from fastai.learner import load_learner"
   ]
  },
  {
   "cell_type": "code",
   "execution_count": 4,
   "id": "af4be65f",
   "metadata": {},
   "outputs": [],
   "source": [
    "learn_inf = load_learner(path/'export.pkl')"
   ]
  },
  {
   "cell_type": "code",
   "execution_count": 5,
   "id": "d3354563",
   "metadata": {},
   "outputs": [],
   "source": [
    "btn_upload = widgets.FileUpload()"
   ]
  },
  {
   "cell_type": "code",
   "execution_count": 6,
   "id": "28dad437",
   "metadata": {},
   "outputs": [],
   "source": [
    "out_pl = widgets.Output()\n",
    "out_pl.clear_output()"
   ]
  },
  {
   "cell_type": "code",
   "execution_count": 7,
   "id": "cac98484",
   "metadata": {},
   "outputs": [],
   "source": [
    "lbl_pred = widgets.Label()"
   ]
  },
  {
   "cell_type": "code",
   "execution_count": 8,
   "id": "6b672ab2",
   "metadata": {},
   "outputs": [],
   "source": [
    "btn_run = widgets.Button(description='チェック')"
   ]
  },
  {
   "cell_type": "code",
   "execution_count": 9,
   "id": "ed8c932e",
   "metadata": {},
   "outputs": [],
   "source": [
    "def on_click_classify(change):\n",
    "    img = PILImage.create(btn_upload.data[-1])\n",
    "    out_pl.clear_output()\n",
    "    with out_pl: display(img.to_thumb(128,128))\n",
    "    pred,pred_idx,probs = learn_inf.predict(img)\n",
    "    if pred == \"tomato\":\n",
    "        lbl_pred.value = f'{probs[pred_idx]*100:.02f}%の確率でトマトです'\n",
    "    elif pred == \"tiger\": \n",
    "        lbl_pred.value = f'{probs[pred_idx]*100:.02f}%の確率でトラです'\n",
    "    elif pred == \"rabbit\":\n",
    "        lbl_pred.value = f'{probs[pred_idx]*100:.02f}%の確率でうさぎです'\n",
    "#     lbl_pred.value = f'{probs[pred_idx]*100:.02f}%の確率で{pred}です'\n",
    "#     lbl_pred.value = f'{probs[pred_idx]:.02f*100}%の確率で{pred}'\n",
    "\n",
    "btn_run.on_click(on_click_classify)"
   ]
  },
  {
   "cell_type": "code",
   "execution_count": 10,
   "id": "e376e1dd",
   "metadata": {},
   "outputs": [],
   "source": [
    "btn_upload = widgets.FileUpload()"
   ]
  },
  {
   "cell_type": "markdown",
   "id": "d6da20de",
   "metadata": {},
   "source": [
    "<div style=\"text-align: center;\">\n",
    " <h1><em>「うさぎ」「トマト」「トラ」の判別</em></h1>\n",
    "</div>"
   ]
  },
  {
   "cell_type": "code",
   "execution_count": 11,
   "id": "c46cc75d",
   "metadata": {},
   "outputs": [],
   "source": [
    "from ipywidgets import Layout"
   ]
  },
  {
   "cell_type": "code",
   "execution_count": 12,
   "id": "439a5ec9",
   "metadata": {},
   "outputs": [
    {
     "data": {
      "application/vnd.jupyter.widget-view+json": {
       "model_id": "8aac4b32e6c343419ceaed82a2ecf8b7",
       "version_major": 2,
       "version_minor": 0
      },
      "text/plain": [
       "VBox(children=(Label(value='「うさぎ」「トマト」「トラ」のどれかの写真をアップロードしてください！'), FileUpload(value={}, description='Upload'),…"
      ]
     },
     "metadata": {},
     "output_type": "display_data"
    }
   ],
   "source": [
    "VBox([widgets.Label('「うさぎ」「トマト」「トラ」のどれかの写真をアップロードしてください！'), \n",
    "      btn_upload, btn_run, out_pl, lbl_pred], layout=Layout(align_items='center',justify_content=\"center\", border='dotted',margin=\"10%\"))"
   ]
  },
  {
   "cell_type": "code",
   "execution_count": null,
   "id": "691c1e23",
   "metadata": {},
   "outputs": [],
   "source": []
  },
  {
   "cell_type": "code",
   "execution_count": null,
   "id": "c90f34ab",
   "metadata": {},
   "outputs": [],
   "source": []
  }
 ],
 "metadata": {
  "kernelspec": {
   "display_name": "Python 3 (ipykernel)",
   "language": "python",
   "name": "python3"
  },
  "language_info": {
   "codemirror_mode": {
    "name": "ipython",
    "version": 3
   },
   "file_extension": ".py",
   "mimetype": "text/x-python",
   "name": "python",
   "nbconvert_exporter": "python",
   "pygments_lexer": "ipython3",
   "version": "3.8.12"
  }
 },
 "nbformat": 4,
 "nbformat_minor": 5
}
